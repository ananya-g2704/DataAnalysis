{
 "cells": [
  {
   "cell_type": "markdown",
   "id": "c9541e5b",
   "metadata": {},
   "source": [
    "    # NumPy – Numerical Python\n",
    "## 1. Why Learn NumPy?\n",
    "\n",
    "#### What is it?\n",
    "\n",
    "NumPy is a powerful Python library for numerical computations. It provides fast and memory-efficient multi-dimensional arrays.\n",
    "\n",
    "#### Why we need it?\n",
    "\n",
    "1.Pure Python lists are slow for large datasets.\n",
    "\n",
    "2.NumPy arrays are optimized for speed and vectorized operations.\n",
    "\n",
    "3.Most Data Science & Machine Learning libraries (like Pandas, Scikit-Learn, TensorFlow) are built on top of NumPy.\n",
    "\n",
    "#### Where is it used?\n",
    "\n",
    "1.Data Analysis\n",
    "\n",
    "2.Machine Learning & Deep Learning\n",
    "\n",
    "3.Image Processing (OpenCV, PIL use NumPy arrays)\n",
    "\n",
    "5.Scientific Computing & Simulations\n"
   ]
  },
  {
   "cell_type": "code",
   "execution_count": null,
   "id": "857f9be1",
   "metadata": {},
   "outputs": [],
   "source": [
    "import numpy as np"
   ]
  },
  {
   "cell_type": "markdown",
   "id": "6da0aefa",
   "metadata": {},
   "source": []
  },
  {
   "cell_type": "markdown",
   "id": "a46058bf",
   "metadata": {},
   "source": [
    "## 2. Importing NumPy\n"
   ]
  },
  {
   "cell_type": "code",
   "execution_count": 1,
   "id": "e9be7fd4",
   "metadata": {},
   "outputs": [],
   "source": [
    "import numpy as np"
   ]
  },
  {
   "cell_type": "markdown",
   "id": "87f40720",
   "metadata": {},
   "source": [
    "## 3. Arrays vs Python Lists"
   ]
  },
  {
   "cell_type": "code",
   "execution_count": 2,
   "id": "f877a71d",
   "metadata": {},
   "outputs": [],
   "source": [
    "import numpy as np\n",
    "import time"
   ]
  },
  {
   "cell_type": "code",
   "execution_count": 3,
   "id": "5a76fb95",
   "metadata": {},
   "outputs": [],
   "source": [
    "# Python list\n",
    "py_list = [i for i in range(1000000)]"
   ]
  },
  {
   "cell_type": "code",
   "execution_count": 4,
   "id": "e9f18dbd",
   "metadata": {},
   "outputs": [],
   "source": [
    "# NumPy array\n",
    "np_array = np.arange(1000000)"
   ]
  },
  {
   "cell_type": "code",
   "execution_count": 5,
   "id": "cd736e03",
   "metadata": {},
   "outputs": [
    {
     "name": "stdout",
     "output_type": "stream",
     "text": [
      "Python list sum time: 0.017867565155029297\n",
      "NumPy array sum time: 0.0009911060333251953\n"
     ]
    }
   ],
   "source": [
    "# Time comparison\n",
    "start = time.time()\n",
    "sum(py_list)\n",
    "print(\"Python list sum time:\", time.time() - start)\n",
    "\n",
    "start = time.time()\n",
    "np.sum(np_array)\n",
    "print(\"NumPy array sum time:\", time.time() - start)"
   ]
  },
  {
   "cell_type": "markdown",
   "id": "0e2a9207",
   "metadata": {},
   "source": [
    "## 4. Creating Arrays\n",
    "1.np.arange(start, stop, step)\n",
    "\n",
    "Purpose: Creates an array of numbers starting from start up to but not including stop, incremented by step.\n",
    "\n",
    "Your code: np.arange(0, 10, 2)\n",
    "\n",
    "Start = 0\n",
    "\n",
    "Stop = 10 (exclusive)\n",
    "\n",
    "Step = 2\n",
    "\n",
    "2.np.linspace(start, stop, num)\n",
    "\n",
    "Purpose: Creates an array of num equally spaced numbers between start and stop (inclusive).\n",
    "\n",
    "Your code: np.linspace(0, 1, 5)\n",
    "\n",
    "Start = 0\n",
    "\n",
    "Stop = 1 (inclusive)\n",
    "\n",
    "5 numbers evenly spaced"
   ]
  },
  {
   "cell_type": "code",
   "execution_count": 10,
   "id": "c5085766",
   "metadata": {},
   "outputs": [
    {
     "name": "stdout",
     "output_type": "stream",
     "text": [
      "Array: [1 2 3 4 5]\n",
      "Zeros: [[0. 0. 0.]\n",
      " [0. 0. 0.]]\n",
      "Ones: [[1. 1. 1.]\n",
      " [1. 1. 1.]]\n",
      "Arange: [0 2 4 6 8]\n",
      "Linspace: [0.   0.25 0.5  0.75 1.  ]\n"
     ]
    }
   ],
   "source": [
    "# From list \n",
    "arr = np.array([1, 2, 3, 4, 5])\n",
    "print(\"Array:\", arr)\n",
    "\n",
    "# Zeros and Ones\n",
    "print(\"Zeros:\", np.zeros((2,3)))\n",
    "print(\"Ones:\", np.ones((2,3)))\n",
    "\n",
    "# Range and Linspace\n",
    "print(\"Arange:\", np.arange(0, 10, 2))\n",
    "print(\"Linspace:\", np.linspace(0, 1, 5))"
   ]
  },
  {
   "cell_type": "code",
   "execution_count": 11,
   "id": "9141e426",
   "metadata": {},
   "outputs": [
    {
     "name": "stdout",
     "output_type": "stream",
     "text": [
      "Array: [1 2 3 4 5]\n",
      "Zeros: [[0. 0. 0.]\n",
      " [0. 0. 0.]\n",
      " [0. 0. 0.]]\n",
      "Ones: [[1. 1. 1.]\n",
      " [1. 1. 1.]\n",
      " [1. 1. 1.]]\n",
      "Arange: [ 0  2  4  6  8 10 12 14]\n",
      "Linspace: [0.         0.28571429 0.57142857 0.85714286 1.14285714 1.42857143\n",
      " 1.71428571 2.        ]\n"
     ]
    }
   ],
   "source": [
    "# From list \n",
    "arr = np.array([1, 2, 3, 4, 5])\n",
    "print(\"Array:\", arr)\n",
    "\n",
    "# Zeros and Ones\n",
    "print(\"Zeros:\", np.zeros((3,3)))\n",
    "print(\"Ones:\", np.ones((3,3)))\n",
    "\n",
    "# Range and Linspace\n",
    "print(\"Arange:\", np.arange(0, 15, 2))\n",
    "print(\"Linspace:\", np.linspace(0, 2, 8))"
   ]
  },
  {
   "cell_type": "markdown",
   "id": "1d7e9877",
   "metadata": {},
   "source": [
    "## 5. Array Properties"
   ]
  },
  {
   "cell_type": "code",
   "execution_count": 12,
   "id": "f757f9bc",
   "metadata": {},
   "outputs": [
    {
     "name": "stdout",
     "output_type": "stream",
     "text": [
      "Array shape: (2, 3)\n",
      "Array dtype: int64\n",
      "Array size: 6\n",
      "Array ndim: 2\n"
     ]
    }
   ],
   "source": [
    "arr = np.array([[1,2,3],[4,5,6]])\n",
    "print(\"Array shape:\", arr.shape)\n",
    "print(\"Array dtype:\", arr.dtype)\n",
    "print(\"Array size:\", arr.size)\n",
    "print(\"Array ndim:\", arr.ndim)"
   ]
  },
  {
   "cell_type": "markdown",
   "id": "9649692b",
   "metadata": {},
   "source": [
    "## 6. Indexing and Slicing"
   ]
  },
  {
   "cell_type": "code",
   "execution_count": 14,
   "id": "2068dee6",
   "metadata": {},
   "outputs": [
    {
     "name": "stdout",
     "output_type": "stream",
     "text": [
      "Element at index 2: 30\n",
      "Elements from index 1 to 3: [20 30 40]\n",
      "Elements at indices 0, 2, 4: [10 30 50]\n",
      "Every second element: [10 30 50]\n",
      "Reversed array: [50 40 30 20 10]\n"
     ]
    }
   ],
   "source": [
    "\n",
    "arr = np.array([10,20,30,40,50])\n",
    "print(\"Element at index 2:\", arr[2])\n",
    "print(\"Elements from index 1 to 3:\", arr[1:4])\n",
    "print(\"Elements at indices 0, 2, 4:\", arr[[0,2,4]])\n",
    "print(\"Every second element:\", arr[::2])\n",
    "print(\"Reversed array:\", arr[::-1])\n"
   ]
  },
  {
   "cell_type": "code",
   "execution_count": null,
   "id": "f17c81e7",
   "metadata": {},
   "outputs": [
    {
     "name": "stdout",
     "output_type": "stream",
     "text": [
      "Matrix:\n",
      " [[1 2 3]\n",
      " [4 5 6]\n",
      " [7 8 9]]\n",
      "Matrix shape: (3, 3)\n",
      "Matrix dtype: int64\n",
      "Matrix size: 9\n",
      "Matrix ndim: 2\n",
      "2\n",
      "[4 5 6]\n",
      "[3 6 9]\n",
      "Transpose:\n",
      " [[1 4 7]\n",
      " [2 5 8]\n",
      " [3 6 9]]\n",
      "Sum of all elements: 45\n",
      "Sum of each column: [12 15 18]\n",
      "Sum of each row: [ 6 15 24]\n",
      "Mean of all elements: 5.0\n",
      "Mean of each column: [4. 5. 6.]\n",
      "Mean of each row: [2. 5. 8.]\n",
      "Element-wise multiplication:\n",
      " [[ 2  4  6]\n",
      " [ 8 10 12]\n",
      " [14 16 18]]\n",
      "Matrix multiplication:\n",
      " [[ 30  36  42]\n",
      " [ 66  81  96]\n",
      " [102 126 150]]\n"
     ]
    }
   ],
   "source": [
    "\n",
    "matrix = np.array([[1,2,3],[4,5,6],[7,8,9]])\n",
    "print(\"Matrix:\\n\", matrix)\n",
    "print(\"Matrix shape:\", matrix.shape)\n",
    "print(\"Matrix dtype:\", matrix.dtype)\n",
    "print(\"Matrix size:\", matrix.size)\n",
    "print(\"Matrix ndim:\", matrix.ndim)\n",
    "print(matrix[0,1]) # element at row 0, col 1\n",
    "print(matrix[1,:]) # entire row 1\n",
    "print(matrix[:,2]) # entire col 2\n",
    "# Matrix operations\n",
    "print(\"Transpose:\\n\", matrix.T)\n",
    "print(\"Sum of all elements:\", np.sum(matrix))\n",
    "print(\"Sum of each column:\", np.sum(matrix, axis=0))\n",
    "print(\"Sum of each row:\", np.sum(matrix, axis=1))\n",
    "print(\"Mean of all elements:\", np.mean(matrix))\n",
    "print(\"Mean of each column:\", np.mean(matrix, axis=0))\n",
    "print(\"Mean of each row:\", np.mean(matrix, axis=1))\n",
    "print(\"Element-wise multiplication:\\n\", matrix * 2)\n",
    "print(\"Matrix multiplication:\\n\", np.dot(matrix, matrix))  "
   ]
  },
  {
   "cell_type": "markdown",
   "id": "56eb6b2b",
   "metadata": {},
   "source": [
    "## 7. Operations and Broadcasting"
   ]
  },
  {
   "cell_type": "code",
   "execution_count": 16,
   "id": "8cd0d0a4",
   "metadata": {},
   "outputs": [
    {
     "name": "stdout",
     "output_type": "stream",
     "text": [
      "a + b: [5 7 9]\n",
      "a * b: [ 4 10 18]\n",
      "a + 10: [11 12 13]\n",
      "a * 2: [2 4 6]\n"
     ]
    }
   ],
   "source": [
    "a = np.array([1,2,3]) \n",
    "b = np.array([4,5,6])\n",
    "print(\"a + b:\", a + b)            # Element-wise addition\n",
    "print(\"a * b:\", a * b)            # Element-wise multiplication\n",
    "print(\"a + 10:\", a + 10)          # Broadcasting\n",
    "print(\"a * 2:\", a * 2)            # Broadcasting\n"
   ]
  },
  {
   "cell_type": "markdown",
   "id": "b45367b5",
   "metadata": {},
   "source": [
    "## 8. Mathematical Functions"
   ]
  },
  {
   "cell_type": "code",
   "execution_count": 17,
   "id": "e16d660e",
   "metadata": {},
   "outputs": [
    {
     "name": "stdout",
     "output_type": "stream",
     "text": [
      "Sum: 15\n",
      "Mean: 3.0\n",
      "Max: 5\n",
      "Min: 1\n",
      "Standard Deviation: 1.4142135623730951\n",
      "Variance: 2.0\n",
      "Square Root: [1.         1.41421356 1.73205081 2.         2.23606798]\n",
      "Exponential: [  2.71828183   7.3890561   20.08553692  54.59815003 148.4131591 ]\n",
      "Logarithm: [0.         0.69314718 1.09861229 1.38629436 1.60943791]\n"
     ]
    }
   ],
   "source": [
    "arr = np.array([1,2,3,4,5])\n",
    "print(\"Sum:\", np.sum(arr))\n",
    "print(\"Mean:\", np.mean(arr))\n",
    "print(\"Max:\", np.max(arr))\n",
    "print(\"Min:\", np.min(arr))\n",
    "print(\"Standard Deviation:\", np.std(arr))\n",
    "print(\"Variance:\", np.var(arr))\n",
    "print(\"Square Root:\", np.sqrt(arr))\n",
    "print(\"Exponential:\", np.exp(arr))\n",
    "print(\"Logarithm:\", np.log(arr))"
   ]
  },
  {
   "cell_type": "markdown",
   "id": "e48bbbeb",
   "metadata": {},
   "source": [
    "## 9. Reshaping Arrays"
   ]
  },
  {
   "cell_type": "code",
   "execution_count": 18,
   "id": "f894714e",
   "metadata": {},
   "outputs": [
    {
     "name": "stdout",
     "output_type": "stream",
     "text": [
      "Original array: [ 1  2  3  4  5  6  7  8  9 10 11 12]\n",
      "Reshaped array (3x4):\n",
      " [[ 1  2  3  4]\n",
      " [ 5  6  7  8]\n",
      " [ 9 10 11 12]]\n",
      "Flattened array: [ 1  2  3  4  5  6  7  8  9 10 11 12]\n"
     ]
    }
   ],
   "source": [
    "arr = np.arange(1, 13)\n",
    "reshaped = arr.reshape((3,4))\n",
    "print(\"Original array:\", arr)\n",
    "print(\"Reshaped array (3x4):\\n\", reshaped)\n",
    "flattened = reshaped.flatten()\n",
    "print(\"Flattened array:\", flattened)\n"
   ]
  },
  {
   "cell_type": "code",
   "execution_count": 30,
   "id": "1a4046f8",
   "metadata": {},
   "outputs": [
    {
     "name": "stdout",
     "output_type": "stream",
     "text": [
      "[4 5 6]\n"
     ]
    }
   ],
   "source": [
    "arr = np.array([[1,2,3],[4,5,6],[7,8,9]])\n",
    "print(arr[1,:])"
   ]
  },
  {
   "cell_type": "markdown",
   "id": "cba39fd2",
   "metadata": {},
   "source": [
    "Find the mean, median, and standard deviation of [12, 15, 20, 25, 30]."
   ]
  },
  {
   "cell_type": "code",
   "execution_count": 22,
   "id": "7fcb2831",
   "metadata": {},
   "outputs": [
    {
     "name": "stdout",
     "output_type": "stream",
     "text": [
      "Mean: 20.4\n",
      "Median: 20.0\n",
      "Standard Deviation: 6.529931086925803\n"
     ]
    }
   ],
   "source": [
    "a=np.array([12, 15, 20, 25, 30])\n",
    "print(\"Mean:\",np.mean(a))\n",
    "print(\"Median:\",np.median(a))\n",
    "print(\"Standard Deviation:\", np.std(a))"
   ]
  },
  {
   "cell_type": "markdown",
   "id": "2f33f915",
   "metadata": {},
   "source": [
    "Generate a random 5×5 matrix and find its maximum and minimum values.\n",
    " \n",
    "(Hint: Use np.random.rand for random numbers)"
   ]
  },
  {
   "cell_type": "code",
   "execution_count": 23,
   "id": "381ec9fd",
   "metadata": {},
   "outputs": [
    {
     "name": "stdout",
     "output_type": "stream",
     "text": [
      "Matrix:\n",
      " [[0.83614131 0.90511506 0.86254348 0.82062814 0.9885619 ]\n",
      " [0.94401943 0.68409122 0.07084394 0.34378676 0.68628907]\n",
      " [0.02457108 0.3080863  0.85207645 0.37148145 0.8831621 ]\n",
      " [0.24284877 0.66432612 0.66054089 0.1141997  0.18479527]\n",
      " [0.87996964 0.00316658 0.60359224 0.11491694 0.94236362]]\n",
      "\n",
      "Maximum value in matrix: 0.9885619049020653\n",
      "Minimum value in matrix: 0.0031665821241885217\n"
     ]
    }
   ],
   "source": [
    "matrix = np.random.rand(5, 5)\n",
    "print(\"Matrix:\\n\", matrix)\n",
    "max_value = np.max(matrix)\n",
    "min_value = np.min(matrix)\n",
    "print(\"\\nMaximum value in matrix:\", max_value)\n",
    "print(\"Minimum value in matrix:\", min_value)\n"
   ]
  },
  {
   "cell_type": "code",
   "execution_count": 25,
   "id": "f06c645b",
   "metadata": {},
   "outputs": [
    {
     "name": "stdout",
     "output_type": "stream",
     "text": [
      "[1 2 3 4 5 6 7 8]\n",
      "[[1 2 3]\n",
      " [4 5 6]\n",
      " [7 8 9]]\n"
     ]
    }
   ],
   "source": [
    "a=np.arange(1,9)\n",
    "reshaped = arr.reshape((3,3))\n",
    "print(a)\n",
    "print(reshaped)\n"
   ]
  }
 ],
 "metadata": {
  "kernelspec": {
   "display_name": "Python 3",
   "language": "python",
   "name": "python3"
  },
  "language_info": {
   "codemirror_mode": {
    "name": "ipython",
    "version": 3
   },
   "file_extension": ".py",
   "mimetype": "text/x-python",
   "name": "python",
   "nbconvert_exporter": "python",
   "pygments_lexer": "ipython3",
   "version": "3.11.0"
  }
 },
 "nbformat": 4,
 "nbformat_minor": 5
}
